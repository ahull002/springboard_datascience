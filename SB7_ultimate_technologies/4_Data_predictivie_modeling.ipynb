{
 "cells": [
  {
   "cell_type": "markdown",
   "metadata": {},
   "source": [
    "<div class=\"alert alert-info\">\n",
    "\n",
    "<H2> Part 3 ‑ Predictive modeling </H2>\n",
    "\n",
    "<p>\n",
    "Ultimate is interested in predicting rider retention. To help explore this question, we have provided a sample dataset of a cohort of users who signed up for an Ultimate account in January 2014. The data was pulled several months later; we consider a user retained if they were “active” (i.e. took a trip) in the preceding 30 days.\n",
    "</p>\n",
    "\n",
    "<p>\n",
    "We would like you to use this data set to help understand what factors are the best predictors for retention, and offer suggestions to operationalize those insights to help Ultimate.\n",
    "</p>\n",
    "\n",
    "The data is in the attached file ultimate_data_challenge.json.\n",
    "    <ol>\n",
    "        <li> Perform any cleaning, exploratory analysis, and/or visualizations to use the provided data for this analysis (a few sentences/plots describing your approach will suffice). What fraction of the observed users were retained?</li>\n",
    "        <li> Build a predictive model to help Ultimate determine whether or not a user will be active in their 6th month on the system. Discuss why you chose your approach, what alternatives you considered, and any concerns you have. How valid is your model? Include any key indicators of model performance.</li>\n",
    "        <li> Briefly discuss how Ultimate might leverage the insights gained from the model to improve its long term rider retention (again, a few sentences will suffice).</li>\n",
    "                \n",
    "   </ol>\n",
    "    \n",
    "<H3> Assumptions Made </H3>\n",
    "\n",
    "The date of when the data was pulled is not given, so I cannot tell if they had a trip in the 30 days before that date, nor is a user ID given.\n",
    "\n",
    "Thus, I will assume:\n",
    "    <ol>\n",
    "        <li>That the most recent trip taken was the day the data was pulled</li>\n",
    "        <li>Each row represents a summary of a unique user </li>\n",
    "    </ol>\n",
    "\n",
    "<H3> Data description </H3>\n",
    "\n",
    "The following fields are communicated as follows:\n",
    "    <ol>\n",
    "        <li>city: city this user signed up in</li>\n",
    "        <li>phone: primary device for this user </li>\n",
    "        <li>signup_date: date of account registration; in the form ‘YYYY MM DD’ </li>\n",
    "        <li>last_trip_date: the last time this user completed a trip; in the form ‘YYYY MM DD’ </li>\n",
    "        <li>avg_dist: the average distance in miles per trip taken in the first 30 days after signup </li>\n",
    "        <li>avg_rating_by_driver: the rider’s average rating over all of their trips </li>\n",
    "        <li>avg_rating_of_driver: the rider’s average rating of their drivers over all of their trips </li>\n",
    "        <li>surge_pct: the percent of trips taken with surge multiplier > 1 </li>\n",
    "        <li>avg_surge: The average surge multiplier over all of this user’s trips </li>\n",
    "        <li>trips_in_first_30_days: the number of trips this user took in the first 30 days after\n",
    "signing up </li>\n",
    "        <li>ultimate_black_user: TRUE if the user took an Ultimate Black in their first 30 days;\n",
    "FALSE otherwise </li>\n",
    "        <li>weekday_pct: the percent of the user’s trips occurring during a weekday </li>\n",
    "    </ol>"
   ]
  },
  {
   "cell_type": "markdown",
   "metadata": {},
   "source": [
    "<div class=\"alert alert-success\">\n",
    "<H3> 1. Perform any cleaning, exploratory analysis, and/or visualizations to use the provided data for this analysis (a few sentences/plots describing your approach will suffice). What fraction of the observed users were retained? </H3>\n",
    "</div>"
   ]
  },
  {
   "cell_type": "code",
   "execution_count": 2,
   "metadata": {},
   "outputs": [],
   "source": [
    "# imports\n",
    "import pandas as pd\n",
    "import numpy as np\n",
    "import json\n",
    "import pickle\n",
    "\n",
    "\n",
    "# data viz imports\n",
    "import matplotlib.pyplot as plt\n",
    "plt.style.use('tableau-colorblind10')\n",
    "import seaborn as sns\n",
    "\n",
    "\n",
    "# time-series imports\n",
    "from datetime import datetime\n",
    "\n",
    "\n",
    "# imports for xgboost\n",
    "from sklearn.metrics import accuracy_score, mean_squared_error\n",
    "from sklearn.model_selection import train_test_split\n",
    "from xgboost import XGBClassifier, cv, plot_importance\n",
    "\n",
    "from sklearn.model_selection import RandomizedSearchCV, GridSearchCV"
   ]
  },
  {
   "cell_type": "code",
   "execution_count": 3,
   "metadata": {},
   "outputs": [],
   "source": [
    "# load data\n",
    "with open('data/ultimate_data_challenge.json') as f:\n",
    "    data = json.load(f)\n",
    "\n",
    "# put data info pandas dataframe\n",
    "user_data = pd.DataFrame(data)\n",
    "\n",
    "# convert dates to datetime objects\n",
    "user_data['signup_date'] = pd.to_datetime(user_data['signup_date'])\n",
    "user_data['last_trip_date'] = pd.to_datetime(user_data['last_trip_date'])\n",
    "\n",
    "# find the date the data was pulled\n",
    "pull_date = user_data.last_trip_date.max()\n",
    "\n",
    "# determine 30 days previous to the pull day\n",
    "cut_off_day = pull_date - pd.Timedelta('30 days')\n",
    "\n",
    "# add active status to dataframe 0= inactive, 1 = active\n",
    "user_data['active_status'] = (user_data.last_trip_date > cut_off_day).astype('int')\n",
    "\n",
    "# add dummies to categorical data\n",
    "user_data = pd.get_dummies(user_data, columns = ['city', 'phone'])"
   ]
  },
  {
   "cell_type": "code",
   "execution_count": 4,
   "metadata": {},
   "outputs": [],
   "source": [
    "# separate the active and inactive users\n",
    "active_user = user_data[user_data.active_status == 1]\n",
    "inactive_user = user_data[user_data.active_status == 0]"
   ]
  },
  {
   "cell_type": "code",
   "execution_count": 5,
   "metadata": {},
   "outputs": [
    {
     "name": "stdout",
     "output_type": "stream",
     "text": [
      "36.62 percent of users were retained.\n"
     ]
    }
   ],
   "source": [
    "# fraction of the observed users that were retained\n",
    "fraction = round((len(active_user.active_status)/len(user_data.active_status)) * 100, 2)\n",
    "print('{} percent of users were retained.'.format(fraction))"
   ]
  },
  {
   "cell_type": "code",
   "execution_count": 6,
   "metadata": {},
   "outputs": [],
   "source": [
    "# calculate the mean and standard deviation for each feature\n",
    "feature_columns = ['avg_dist', 'avg_rating_by_driver', 'avg_rating_of_driver', 'avg_surge',\n",
    " 'surge_pct', 'ultimate_black_user', 'weekday_pct', 'city_Astapor',\n",
    " \"city_King's Landing\", 'city_Winterfell', 'phone_Android','phone_iPhone']\n",
    "stats_dict = {}\n",
    "for col in feature_columns:\n",
    "    stats_dict[col] = [active_user[col].mean(), active_user[col].std(),\n",
    "                       inactive_user[col].mean(),inactive_user[col].std()]"
   ]
  },
  {
   "cell_type": "code",
   "execution_count": 7,
   "metadata": {},
   "outputs": [],
   "source": [
    "# create a dataframe of the statistics\n",
    "stats_df = pd.DataFrame.from_dict(stats_dict, orient='index').rename(columns = {0:'active_mean', 1:'active_std', 2:'inactive_mean', 3:'inactive_std'})"
   ]
  },
  {
   "cell_type": "code",
   "execution_count": 16,
   "metadata": {},
   "outputs": [
    {
     "data": {
      "text/plain": [
       "Text(0.5, 1.0, 'Average of Features for Active and Inactive Users')"
      ]
     },
     "execution_count": 16,
     "metadata": {},
     "output_type": "execute_result"
    },
    {
     "data": {
      "image/png": "[encoded data removed]",
      "text/plain": [
       "<Figure size 1080x432 with 1 Axes>"
      ]
     },
     "metadata": {
      "needs_background": "light"
     },
     "output_type": "display_data"
    }
   ],
   "source": [
    "# visualize the statistics\n",
    "stats_df[['active_mean', 'inactive_mean']].plot(kind = 'bar', yerr=stats_df[['active_std','inactive_std']], figsize = (15,6), fontsize = 18)\n",
    "plt.xlabel('Features',fontsize = 16)\n",
    "plt.ylabel('Mean', fontsize = 16)\n",
    "plt.title('Average of Features for Active and Inactive Users', fontsize = 18)"
   ]
  },
  {
   "cell_type": "markdown",
   "metadata": {},
   "source": [
    "<div class=\"alert alert-warning\">\n",
    "<strong>The bar graph of the statistcs shows there is not a substantial difference between the average of the features for active and inactive users.  It also shows the weekday_pct feature has a much larger scale than the others, so the data may need to be normalized</strong>\n",
    "</div>"
   ]
  },
  {
   "cell_type": "markdown",
   "metadata": {},
   "source": [
    "<div class=\"alert alert-success\">\n",
    "<H3> 1. Build a predictive model to help Ultimate determine whether or not a user will be active in their 6th month on the system. Discuss why you chose your approach, what alternatives you considered, and any concerns you have. How valid is your model? Include any key indicators of model performance. </H3>\n",
    "</div>"
   ]
  },
  {
   "cell_type": "markdown",
   "metadata": {},
   "source": [
    "__Analysis Approach:__\n",
    "\n",
    "This problem is a binary classification with both numerical and categorical data with 50,000 data points.\n",
    "\n",
    "XGBoost open-source algorithm that has recently been dominating applied machine learning. It's library provides a gradient boosting framework for C++, Java, Python, R, and Julia and is appropriate for this data set for speed and memory efficiency.\n",
    "    \n",
    "Statistical modeling methods that can apply to this data set are random forests and logistic regression. One of the drawbacks of using a tree-based model is this is a binary classification problem with both numerical and categorical data with 50,000 data points.\n",
    "\n",
    "_Optimization of XGBoost Classifer Model_\n",
    "\n",
    "> 1. split data into training and test sets\n",
    "> 2. optimize hyperparameters using the training set and random cross-validation to estimate the skill of machine learning models\n",
    "> 3. validate using an unoptimized model AND the test set\n",
    "> 4. train optimized model using the entire feature set"
   ]
  },
  {
   "cell_type": "markdown",
   "metadata": {},
   "source": [
    "<div class=\"alert alert-success\">\n",
    "<H3>1. Split Data</H3>\n",
    "</div>"
   ]
  },
  {
   "cell_type": "code",
   "execution_count": 20,
   "metadata": {},
   "outputs": [],
   "source": [
    "# define features and target\n",
    "X = user_data[feature_columns]\n",
    "y = user_data.active_status\n",
    "\n",
    "# split training and test data\n",
    "X_train, X_test, y_train, y_test = train_test_split(X,y, test_size=0.3, random_state=123)"
   ]
  },
  {
   "cell_type": "markdown",
   "metadata": {},
   "source": [
    "<div class=\"alert alert-success\">\n",
    "<H3>2. Hyperparameter optimization</H3>\n",
    "</div>"
   ]
  },
  {
   "cell_type": "code",
   "execution_count": 21,
   "metadata": {},
   "outputs": [],
   "source": [
    "# dictionary of parameters to optimize, and the range of optimization values\n",
    "parameters = {\n",
    "    'max_delta_step':[0,0.05],\n",
    "    'scale_pos_weight':[0.95, 0.9],\n",
    "    'subsample':[1,0.8],\n",
    "    'learning_rate': [0.25, 0.2, 0.1],\n",
    "    'min_child_weight':[0,1,2],\n",
    "    'gamma':[1, 2, 3]\n",
    "    }"
   ]
  },
  {
   "cell_type": "code",
   "execution_count": 22,
   "metadata": {},
   "outputs": [
    {
     "data": {
      "text/plain": [
       "GridSearchCV(cv=3, error_score='raise-deprecating',\n",
       "             estimator=XGBClassifier(base_score=0.5, booster='gbtree',\n",
       "                                     colsample_bylevel=1, colsample_bynode=1,\n",
       "                                     colsample_bytree=1, gamma=0,\n",
       "                                     learning_rate=0.1, max_delta_step=0,\n",
       "                                     max_depth=8, min_child_weight=1,\n",
       "                                     missing=None, n_estimators=10, n_jobs=1,\n",
       "                                     nthread=None, objective='binary:logistic',\n",
       "                                     random_state=42, reg_alpha=0, reg_lambda=1,\n",
       "                                     scale_pos_weight=1, seed=None, silent=1,\n",
       "                                     subsample=1, verbosity=1),\n",
       "             iid='warn', n_jobs=None,\n",
       "             param_grid={'gamma': [1, 2, 3], 'learning_rate': [0.25, 0.2, 0.1],\n",
       "                         'max_delta_step': [0, 0.05],\n",
       "                         'min_child_weight': [0, 1, 2],\n",
       "                         'scale_pos_weight': [0.95, 0.9],\n",
       "                         'subsample': [1, 0.8]},\n",
       "             pre_dispatch='2*n_jobs', refit=True, return_train_score=False,\n",
       "             scoring='accuracy', verbose=0)"
      ]
     },
     "execution_count": 22,
     "metadata": {},
     "output_type": "execute_result"
    }
   ],
   "source": [
    "# instantiate classifier\n",
    "xg_clf = XGBClassifier(objective = 'binary:logistic', random_state = 42, silent = 1, n_estimators=10, max_depth= 8)\n",
    "\n",
    "# RandomSearch\n",
    "grid_search = GridSearchCV(param_grid= parameters, estimator = xg_clf, cv=3, scoring='accuracy')\n",
    "grid_search.fit(X_train,y_train)"
   ]
  },
  {
   "cell_type": "code",
   "execution_count": 23,
   "metadata": {},
   "outputs": [
    {
     "name": "stdout",
     "output_type": "stream",
     "text": [
      "{'gamma': 3, 'learning_rate': 0.25, 'max_delta_step': 0, 'min_child_weight': 1, 'scale_pos_weight': 0.95, 'subsample': 0.8}\n",
      "0.7833142857142857\n"
     ]
    }
   ],
   "source": [
    "# Print best parameters and results\n",
    "print(grid_search.best_params_)\n",
    "print(grid_search.best_score_)"
   ]
  },
  {
   "cell_type": "markdown",
   "metadata": {},
   "source": [
    "<div class=\"alert alert-success\">\n",
    "<H3>3. Validate optimized parameters</H3>\n",
    "</div>"
   ]
  },
  {
   "cell_type": "code",
   "execution_count": 24,
   "metadata": {},
   "outputs": [],
   "source": [
    "# optimized parameters\n",
    "optimized_parameters = {'objective':'binary:logistic',\n",
    "                        'n_estimators': 10,\n",
    "                        'random_state': 42,\n",
    "                        'silent': 0,\n",
    "                        'subsample': 1, \n",
    "                        'scale_pos_weight': 0.95, \n",
    "                        'min_child_weight': 1, \n",
    "                        'max_depth': 8, \n",
    "                        'max_delta_step': 0, \n",
    "                        'learning_rate': 0.2, \n",
    "                        'gamma': 3\n",
    "                       }"
   ]
  },
  {
   "cell_type": "code",
   "execution_count": 25,
   "metadata": {},
   "outputs": [
    {
     "data": {
      "text/plain": [
       "XGBClassifier(base_score=0.5, booster='gbtree', colsample_bylevel=1,\n",
       "              colsample_bynode=1, colsample_bytree=1, gamma=3,\n",
       "              learning_rate=0.2, max_delta_step=0, max_depth=8,\n",
       "              min_child_weight=1, missing=None, n_estimators=10, n_jobs=1,\n",
       "              nthread=None, objective='binary:logistic', random_state=42,\n",
       "              reg_alpha=0, reg_lambda=1, scale_pos_weight=0.95, seed=None,\n",
       "              silent=0, subsample=1, verbosity=1)"
      ]
     },
     "execution_count": 25,
     "metadata": {},
     "output_type": "execute_result"
    }
   ],
   "source": [
    "# instantiate classifier\n",
    "xg_clf_opt = XGBClassifier(**optimized_parameters)\n",
    "xg_clf_opt.fit(X_train, y_train)"
   ]
  },
  {
   "cell_type": "code",
   "execution_count": 26,
   "metadata": {},
   "outputs": [
    {
     "name": "stdout",
     "output_type": "stream",
     "text": [
      "The resulting accuracy of the optimized classifier is 0.8033.\n"
     ]
    }
   ],
   "source": [
    "# predict the labels\n",
    "y_opt_pred = xg_clf_opt.predict(X_train)\n",
    "\n",
    "# score model\n",
    "score = accuracy_score(y_train, y_opt_pred)\n",
    "\n",
    "# print accuracy\n",
    "print(\"The resulting accuracy of the optimized classifier is {}.\".format(round(score,4)))"
   ]
  },
  {
   "cell_type": "code",
   "execution_count": 27,
   "metadata": {
    "scrolled": true
   },
   "outputs": [
    {
     "name": "stdout",
     "output_type": "stream",
     "text": [
      "The resulting accuracy of the unoptimized classifier is 0.7969.\n"
     ]
    }
   ],
   "source": [
    "# train unoptimized model\n",
    "xg_clf.fit(X_train, y_train)\n",
    "\n",
    "# predict the labels of unoptimized model\n",
    "y_unopt_pred = xg_clf.predict(X_train)\n",
    "\n",
    "# score model\n",
    "un_score = accuracy_score(y_train, y_unopt_pred)\n",
    "\n",
    "# print accuracy\n",
    "print(\"The resulting accuracy of the unoptimized classifier is {}.\".format(round(un_score,4)))"
   ]
  },
  {
   "cell_type": "markdown",
   "metadata": {},
   "source": [
    "<div class=\"alert alert-warning\">\n",
    "<strong>The optimization process did improve the model using the training data, so the next step is to see how it performs with the test set.</strong>\n",
    "</div>"
   ]
  },
  {
   "cell_type": "code",
   "execution_count": 28,
   "metadata": {},
   "outputs": [
    {
     "name": "stdout",
     "output_type": "stream",
     "text": [
      "The resulting accuracy of the optimized classifier for the test set is 0.7873.\n"
     ]
    }
   ],
   "source": [
    "# predict the labels\n",
    "y_opt_test = xg_clf_opt.predict(X_test)\n",
    "\n",
    "# score model\n",
    "test_score = accuracy_score(y_test, y_opt_test)\n",
    "\n",
    "# print accuracy\n",
    "print(\"The resulting accuracy of the optimized classifier for the test set is {}.\".format(round(test_score,4)))"
   ]
  },
  {
   "cell_type": "code",
   "execution_count": 29,
   "metadata": {},
   "outputs": [
    {
     "name": "stdout",
     "output_type": "stream",
     "text": [
      "The resulting accuracy of the unoptimized classifier is 0.7969.\n"
     ]
    }
   ],
   "source": [
    "# predict the labels of unoptimized model using the test set\n",
    "y_unopt_test = xg_clf.predict(X_train)\n",
    "\n",
    "# score model\n",
    "test_score = accuracy_score(y_train, y_unopt_test)\n",
    "\n",
    "# print accuracy\n",
    "print(\"The resulting accuracy of the unoptimized classifier is {}.\".format(round(test_score,4)))"
   ]
  },
  {
   "cell_type": "markdown",
   "metadata": {},
   "source": [
    "<div class=\"alert alert-warning\">\n",
    "<strong>The optimized model performs worse with the test set, which means it is overfitting. Therefore, I will train the final model with all of the data using the default values</strong>\n",
    "</div>"
   ]
  },
  {
   "cell_type": "code",
   "execution_count": 30,
   "metadata": {},
   "outputs": [],
   "source": [
    "# instantiate classifier\n",
    "xg_clf_final = XGBClassifier(objective = 'binary:logistic', random_state = 42, silent = 1, n_estimators=200, max_depth= 8)\n",
    "\n",
    "# train final model\n",
    "xg_clf_final.fit(X, y)\n",
    "\n",
    "# save model\n",
    "pickle.dump(xg_clf_final, open('final_model.pickle', 'wb'))"
   ]
  },
  {
   "cell_type": "markdown",
   "metadata": {},
   "source": [
    "<div class=\"alert alert-success\">\n",
    "<H2> Model Insights </H2>\n",
    "\n",
    "<H3>\n",
    "<p>\n",
    "    \n",
    "<li>Determine the most important features of the model</li>\n",
    "<li>Discuss what that means for rider retention</li>\n",
    "\n",
    "</p>\n",
    "</H3>\n",
    "</div>"
   ]
  },
  {
   "cell_type": "code",
   "execution_count": 31,
   "metadata": {},
   "outputs": [
    {
     "data": {
      "text/plain": [
       "<matplotlib.axes._subplots.AxesSubplot at 0x1a15db0bba8>"
      ]
     },
     "execution_count": 31,
     "metadata": {},
     "output_type": "execute_result"
    },
    {
     "data": {
      "image/png": "[encoded data removed]",
      "text/plain": [
       "<Figure size 432x288 with 1 Axes>"
      ]
     },
     "metadata": {
      "needs_background": "light"
     },
     "output_type": "display_data"
    }
   ],
   "source": [
    "plot_importance(xg_clf_final)"
   ]
  },
  {
   "cell_type": "markdown",
   "metadata": {},
   "source": [
    "<div class=\"alert alert-warning\">\n",
    "<H1> Conclusions </H1>\n",
    "<H2>\n",
    "<strong>The default parameters produced the best performing XGBoost model, resulting in a classification accuracy of 80.33% for the test data.  The factors that most heavily influence rider retention are the average distance in miles per trip taken in the first 30 days after signup and the percent of the user's trips occuring during a weekday. </strong>\n",
    "</H2>\n",
    "</div>"
   ]
  },
  {
   "cell_type": "code",
   "execution_count": null,
   "metadata": {},
   "outputs": [],
   "source": []
  }
 ],
 "metadata": {
  "kernelspec": {
   "display_name": "Python 3",
   "language": "python",
   "name": "python3"
  },
  "language_info": {
   "codemirror_mode": {
    "name": "ipython",
    "version": 3
   },
   "file_extension": ".py",
   "mimetype": "text/x-python",
   "name": "python",
   "nbconvert_exporter": "python",
   "pygments_lexer": "ipython3",
   "version": "3.7.3"
  }
 },
 "nbformat": 4,
 "nbformat_minor": 4
}

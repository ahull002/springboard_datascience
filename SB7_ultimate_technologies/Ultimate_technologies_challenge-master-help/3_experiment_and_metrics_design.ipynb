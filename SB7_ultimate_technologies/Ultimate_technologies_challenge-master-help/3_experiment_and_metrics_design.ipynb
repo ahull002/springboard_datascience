{
 "cells": [
  {
   "cell_type": "markdown",
   "metadata": {},
   "source": [
    "<div class=\"alert alert-info\">\n",
    "<H2> Part 2 ‑ Experiment and metrics design </H2>\n",
    "\n",
    "<H3> \n",
    "<p>\n",
    "The neighboring cities of Gotham and Metropolis have complementary circadian rhythms: on\n",
    "weekdays, Ultimate Gotham is most active at night, and Ultimate Metropolis is most active\n",
    "during the day. On weekends, there is reasonable activity in both cities.\n",
    "</p>\n",
    "\n",
    "<p>\n",
    "However, a toll bridge, with a two­way toll, between the two cities causes driver partners to tend\n",
    "to be exclusive to each city. The Ultimate managers of city operations for the two cities have\n",
    "proposed an experiment to encourage driver partners to be available in both cities, by\n",
    "reimbursing all toll costs.\n",
    "    <ol>\n",
    "        <li> What would you choose as the key measure of success of this experiment in encouraging driver partners to serve both cities, and why would you choose this metric?</li>\n",
    "        <li> Describe a practical experiment you would design to compare the effectiveness of the proposed change in relation to the key measure of success. Please provide details on:\n",
    "            <ul>\n",
    "                <li> how you will implement the experiment</li>\n",
    "                <li> what statistical test(s) you will conduct to verify the significance of the observation</li>\n",
    "                <li> how you would interpret the results and provide recommendations to the city operations team along with any caveats.</li> \n",
    "</ul>\n",
    "    </ol>\n",
    " </H3>\n",
    "</div>"
   ]
  },
  {
   "cell_type": "markdown",
   "metadata": {},
   "source": [
    "__To clarify the problem, I am making the following assumptions:__\n",
    "> * Assumption 1. There is an electronic record of the number of cars that use the bridge.  This assumption is reasonable, so to reimburse the partner drivers, the drivers would need a history of the crossing.\n",
    "\n",
    "> * Assumption 2. There is historical data on the bridge to use.\n",
    "\n",
    "A critical metric I would use is the changes in weekday activity. Specifically, during the daytime hours on weekdays, is there an increase of cars entering the bridge from Gotham, and during the night, is there an increase of vehicles entering the bridge from Metropolis. This metric is important because it requires only two assumptions, is easily measured, and doesn't require waiting for reimbursement data to accumulate.\n",
    "\n",
    "\n",
    "__To answer the above questions, I would use two hypothesis tests.__\n",
    "\n",
    "_1. First set:_\n",
    "> * H0: There is no difference between the mean number of cars entering the bridge from Gotham throughout weekday hours between 6 am and 6 pm, two weeks before reimbursements started, and two weeks after payments offered.\n",
    "> * H1: There is an increase in the mean number of cars entering the bridge from Gotham throughout weekday hours between 6 am and 6 pm, two weeks before reimbursements started, and two weeks after payments offered.\n",
    "\n",
    "_2. Second Set:_\n",
    "> * H0: There is no difference between the mean number of cars entering the bridge from Metropolis during weekdays between the hours of 7 pm and 4 am, two weeks before reimbursements started, and two weeks after payments offered.\n",
    "> * H1: There is an increase in the mean number of cars entering the bridge from Metropolis during weekdays between 7 pm and 4 am, two weeks before reimbursements started, and two weeks after payments offered.\n",
    "\n",
    "__Analysis Approach__\n",
    "I would use a one-tailed Z-test and a 95 percent confidence interval to determine the p-value of each hypothesis.\n",
    "\n",
    "> If the p-value is smaller than 0.05 for both tests, I would reject the null hypothesis and recommend the reimbursement program continue, with the caveat that the study should repeat in some cyclical fashion and as more data accrues.\n",
    "Conversely, If the p-value is more significant than 0.05 for BOTH tests, I would fail to reject the null hypotheses from both studies and recommend a different program created to increase partner driving between the two cities.\n",
    "If the p-value is mixed, so only one hypothesis has a p-value less than 0.05, I would recommend that the analysis is inconclusive and that further investigation is needed.\n"
   ]
  },
  {
   "cell_type": "markdown",
   "metadata": {},
   "source": []
  },
  {
   "cell_type": "markdown",
   "metadata": {},
   "source": [
    "I would use a one-tailed Z-test to determine the p-value of each hypothesis. \n",
    "\n",
    "If the p-value is less than 0.05 for BOTH tests I would reject the null hypotheses and recommend the reimbursement program continue, with the caveat that the study should be repeated in a year with more data.\n",
    "\n",
    "If the p-value is greater than 0.05 for BOTH tests I would fail to reject the null hypotheses and recommend that a different program be developed to increase partner driving between the two cities.\n",
    "\n",
    "If the p-value is mixed, so only one hypothesis has a p-value less than 0.05 I would recommend that the analysis is inconclusive and that further investigation is needed."
   ]
  }
 ],
 "metadata": {
  "kernelspec": {
   "display_name": "Python 3",
   "language": "python",
   "name": "python3"
  },
  "language_info": {
   "codemirror_mode": {
    "name": "ipython",
    "version": 3
   },
   "file_extension": ".py",
   "mimetype": "text/x-python",
   "name": "python",
   "nbconvert_exporter": "python",
   "pygments_lexer": "ipython3",
   "version": "3.7.3"
  }
 },
 "nbformat": 4,
 "nbformat_minor": 4
}
